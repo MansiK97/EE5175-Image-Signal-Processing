{
 "cells": [
  {
   "cell_type": "markdown",
   "id": "f39c8dca",
   "metadata": {},
   "source": [
    "# LAB ASSIGNMENT 6 IMAGE SIGNAL PROCESSING\n",
    "\n",
    "## MANSI KAKKAR\n",
    "## EE21S063"
   ]
  },
  {
   "cell_type": "markdown",
   "id": "8cb2eae1",
   "metadata": {},
   "source": [
    "**IMPORTING LIBRARIES**\n",
    "\n",
    "* scipy.io : for reading the images in .mat format\n",
    "\n",
    "* numpy : for finding size of image\n",
    "\n",
    "* matplotlib.pyplot : for plotting the function\n",
    "\n",
    "* matplotlib.cm : for 3d colormap"
   ]
  },
  {
   "cell_type": "code",
   "execution_count": 1,
   "id": "045be934",
   "metadata": {},
   "outputs": [
    {
     "ename": "ModuleNotFoundError",
     "evalue": "No module named 'scipy'",
     "output_type": "error",
     "traceback": [
      "\u001b[0;31m---------------------------------------------------------------------------\u001b[0m",
      "\u001b[0;31mModuleNotFoundError\u001b[0m                       Traceback (most recent call last)",
      "Input \u001b[0;32mIn [1]\u001b[0m, in \u001b[0;36m<cell line: 2>\u001b[0;34m()\u001b[0m\n\u001b[1;32m      1\u001b[0m \u001b[38;5;28;01mimport\u001b[39;00m \u001b[38;5;21;01mnumpy\u001b[39;00m \u001b[38;5;28;01mas\u001b[39;00m \u001b[38;5;21;01mnp\u001b[39;00m\n\u001b[0;32m----> 2\u001b[0m \u001b[38;5;28;01mimport\u001b[39;00m \u001b[38;5;21;01mscipy\u001b[39;00m\u001b[38;5;21;01m.\u001b[39;00m\u001b[38;5;21;01mio\u001b[39;00m\n\u001b[1;32m      3\u001b[0m \u001b[38;5;28;01mimport\u001b[39;00m \u001b[38;5;21;01mmatplotlib\u001b[39;00m\u001b[38;5;21;01m.\u001b[39;00m\u001b[38;5;21;01mcm\u001b[39;00m \u001b[38;5;28;01mas\u001b[39;00m \u001b[38;5;21;01mcm\u001b[39;00m\n\u001b[1;32m      4\u001b[0m \u001b[38;5;28;01mimport\u001b[39;00m \u001b[38;5;21;01mmatplotlib\u001b[39;00m\u001b[38;5;21;01m.\u001b[39;00m\u001b[38;5;21;01mpyplot\u001b[39;00m \u001b[38;5;28;01mas\u001b[39;00m \u001b[38;5;21;01mplt\u001b[39;00m\n",
      "\u001b[0;31mModuleNotFoundError\u001b[0m: No module named 'scipy'"
     ]
    }
   ],
   "source": [
    "import numpy as np\n",
    "import scipy.io\n",
    "import matplotlib.cm as cm\n",
    "import matplotlib.pyplot as plt"
   ]
  },
  {
   "cell_type": "markdown",
   "id": "eceb4c9a",
   "metadata": {},
   "source": [
    "\n",
    "**READING IMAGES**\n"
   ]
  },
  {
   "cell_type": "code",
   "execution_count": 2,
   "id": "f0c65e02",
   "metadata": {},
   "outputs": [
    {
     "ename": "NameError",
     "evalue": "name 'scipy' is not defined",
     "output_type": "error",
     "traceback": [
      "\u001b[0;31m---------------------------------------------------------------------------\u001b[0m",
      "\u001b[0;31mNameError\u001b[0m                                 Traceback (most recent call last)",
      "Input \u001b[0;32mIn [2]\u001b[0m, in \u001b[0;36m<cell line: 1>\u001b[0;34m()\u001b[0m\n\u001b[0;32m----> 1\u001b[0m mat \u001b[38;5;241m=\u001b[39m \u001b[43mscipy\u001b[49m\u001b[38;5;241m.\u001b[39mio\u001b[38;5;241m.\u001b[39mloadmat(\u001b[38;5;124m'\u001b[39m\u001b[38;5;124mstack.mat\u001b[39m\u001b[38;5;124m'\u001b[39m)\n\u001b[1;32m      2\u001b[0m n_frames \u001b[38;5;241m=\u001b[39m \u001b[38;5;28mint\u001b[39m(mat[\u001b[38;5;124m'\u001b[39m\u001b[38;5;124mnumframes\u001b[39m\u001b[38;5;124m'\u001b[39m])\n\u001b[1;32m      3\u001b[0m frames \u001b[38;5;241m=\u001b[39m {}\n",
      "\u001b[0;31mNameError\u001b[0m: name 'scipy' is not defined"
     ]
    }
   ],
   "source": [
    "mat = scipy.io.loadmat('stack.mat')\n",
    "n_frames = int(mat['numframes'])\n",
    "frames = {}\n",
    "mat"
   ]
  },
  {
   "cell_type": "markdown",
   "id": "2e4984ef",
   "metadata": {},
   "source": [
    "**PRINTING NUMBER OF FRAMES**"
   ]
  },
  {
   "cell_type": "code",
   "execution_count": 3,
   "id": "66b62c27",
   "metadata": {},
   "outputs": [
    {
     "ename": "NameError",
     "evalue": "name 'n_frames' is not defined",
     "output_type": "error",
     "traceback": [
      "\u001b[0;31m---------------------------------------------------------------------------\u001b[0m",
      "\u001b[0;31mNameError\u001b[0m                                 Traceback (most recent call last)",
      "Input \u001b[0;32mIn [3]\u001b[0m, in \u001b[0;36m<cell line: 1>\u001b[0;34m()\u001b[0m\n\u001b[0;32m----> 1\u001b[0m \u001b[43mn_frames\u001b[49m\n",
      "\u001b[0;31mNameError\u001b[0m: name 'n_frames' is not defined"
     ]
    }
   ],
   "source": [
    "n_frames"
   ]
  },
  {
   "cell_type": "markdown",
   "id": "688ad35b",
   "metadata": {},
   "source": [
    "**STORING IMAGES TO IMAGE DICTIONARY**"
   ]
  },
  {
   "cell_type": "code",
   "execution_count": 4,
   "id": "2d89b301",
   "metadata": {},
   "outputs": [
    {
     "ename": "NameError",
     "evalue": "name 'mat' is not defined",
     "output_type": "error",
     "traceback": [
      "\u001b[0;31m---------------------------------------------------------------------------\u001b[0m",
      "\u001b[0;31mNameError\u001b[0m                                 Traceback (most recent call last)",
      "Input \u001b[0;32mIn [4]\u001b[0m, in \u001b[0;36m<cell line: 1>\u001b[0;34m()\u001b[0m\n\u001b[0;32m----> 1\u001b[0m \u001b[38;5;28;01mfor\u001b[39;00m key \u001b[38;5;129;01min\u001b[39;00m \u001b[43mmat\u001b[49m\u001b[38;5;241m.\u001b[39mkeys():\n\u001b[1;32m      2\u001b[0m     \u001b[38;5;28;01mif\u001b[39;00m key[:\u001b[38;5;241m5\u001b[39m] \u001b[38;5;241m==\u001b[39m \u001b[38;5;124m'\u001b[39m\u001b[38;5;124mframe\u001b[39m\u001b[38;5;124m'\u001b[39m:\n\u001b[1;32m      3\u001b[0m         frames[\u001b[38;5;28mint\u001b[39m(key[\u001b[38;5;241m5\u001b[39m:])] \u001b[38;5;241m=\u001b[39m mat[key]\n",
      "\u001b[0;31mNameError\u001b[0m: name 'mat' is not defined"
     ]
    }
   ],
   "source": [
    "for key in mat.keys():\n",
    "    if key[:5] == 'frame':\n",
    "        frames[int(key[5:])] = mat[key]\n",
    "#del_d as given in the problem\n",
    "del_d = 50.50\n"
   ]
  },
  {
   "cell_type": "markdown",
   "id": "193e52b3",
   "metadata": {},
   "source": [
    "**DEFINING DOUBLE DERIVATIVE OPERATORS**\n",
    "\n",
    "Define the partial derivative operators"
   ]
  },
  {
   "cell_type": "code",
   "execution_count": 5,
   "id": "48f689f0",
   "metadata": {},
   "outputs": [],
   "source": [
    "lx = np.array([[0,  0, 0],\n",
    "               [1, -2, 1],\n",
    "               [0,  0, 0]])\n",
    "ly = np.array([[0,  1, 0],\n",
    "               [0, -2, 1],\n",
    "               [0,  1, 0]])"
   ]
  },
  {
   "cell_type": "markdown",
   "id": "c36c7647",
   "metadata": {},
   "source": [
    "**ZERO PADDED IMAGE**\n",
    "\n"
   ]
  },
  {
   "cell_type": "code",
   "execution_count": null,
   "id": "359089d1",
   "metadata": {},
   "outputs": [],
   "source": [
    "#Zero Padding the Image\n",
    "def zero_padded_image(source, padding):\n",
    "    #padding size\n",
    "    [x,y] = np.shape(source)\n",
    "    padded = np.zeros((x+2*padding,y+2*padding))\n",
    "    #New Image\n",
    "    padded[padding:-padding,padding:-padding] = source\n",
    "    return padded"
   ]
  },
  {
   "cell_type": "markdown",
   "id": "ca7b7f95",
   "metadata": {},
   "source": [
    "**DEFINING WINDOW SIZE**\n",
    "\n",
    "Given $q = 0, 1, 2$ ; defining the neighbourhood\n",
    "\n",
    "Calculating the kernel to obtain the sum modified Laplacian from the modified Laplacian values.\n",
    "\n",
    "For given $q$ matrix size is chosen to be $(2q+1) \\times (2q+1)$\n",
    "\n",
    "for $q = 0$ $--->$ at that point\n",
    "\n",
    "for $q = 1$ $--->$ 3 X 3 neighbourhood\n",
    "\n",
    "for $q = 2$ $--->$ 5 X 5 neighbourhood"
   ]
  },
  {
   "cell_type": "code",
   "execution_count": null,
   "id": "a802d800",
   "metadata": {},
   "outputs": [],
   "source": [
    "#Window Size\n",
    "def window_size(q):\n",
    "    w = 2*q+1\n",
    "    return np.ones((w,w))"
   ]
  },
  {
   "cell_type": "markdown",
   "id": "83c8bd0a",
   "metadata": {},
   "source": [
    "**MODIFIED LAPLACIAN**\n",
    "\n",
    "Defining modified laplacian operator,\n",
    "\n",
    "$ML = |f_{xx}| + |f_{yy}|$ ;where $f_{xx}$ and $f_{yy}$ are discrete 2D double derivatives of the image."
   ]
  },
  {
   "cell_type": "code",
   "execution_count": null,
   "id": "2a9aa737",
   "metadata": {},
   "outputs": [],
   "source": [
    "#Modified Laplacian\n",
    "def mod_laplacian(source, padding):\n",
    "    #padding the image with respect to the fact whether padding is > zero or not\n",
    "    if padding!=0:\n",
    "        padded_image = zero_padded_image(source, padding)\n",
    "    else:\n",
    "        padded_image = source\n",
    "    #convolving image and double derivative operator\n",
    "    f_xx = Convolution_2d(padded_image, lx)\n",
    "    f_yy = Convolution_2d(padded_image, ly)\n",
    "    #returning ML as defined above\n",
    "    return np.abs(f_xx)+np.abs(f_yy)\n"
   ]
  },
  {
   "cell_type": "markdown",
   "id": "c8b9dc02",
   "metadata": {},
   "source": [
    "**SUM MODIFIED LAPLACIAN**\n",
    "\n",
    "Defining Sum Modified Laplacian by convolving the modified laplacian image and kernel window.\n",
    "\n",
    "For image $I$ $SML$ is defined for pixel $(x,y)$ as,\n",
    "\n",
    "$SML(x,y) = \\sum_{i=-q}^{i=q}\\sum_{j=-q}^{j=q} ML(x+i,y+j)$\n",
    "\n",
    "For a pixel, assume the frame which has the maximum at that pixel to be the frame in focus and use it for depth estimation."
   ]
  },
  {
   "cell_type": "code",
   "execution_count": null,
   "id": "27910bac",
   "metadata": {},
   "outputs": [],
   "source": [
    "#Sum Modified Laplacian (SML)\n",
    "def sum_modified_laplacian(source, q):\n",
    "    #get the kernel window\n",
    "    window = window_size(q)\n",
    "    # get the modified laplacian padding by q+1 zeros ensuring that\n",
    "    # the sum modified laplacian is of the same shape as thecoriginal image\n",
    "    modified_image = mod_laplacian(source, q+1)\n",
    "    if q==0:\n",
    "        #if window size is 1 pixel, sum modified laplacian and modified laplacian are same\n",
    "        return modified_image\n",
    "    else:\n",
    "        #sum modified laplacian is returned as 2D convolution of modified image and kernel\n",
    "        return Convolution_2d(modified_image, window)"
   ]
  },
  {
   "cell_type": "markdown",
   "id": "f6411120",
   "metadata": {},
   "source": [
    "**2D CONVOLUTION**\n",
    "\n"
   ]
  },
  {
   "cell_type": "code",
   "execution_count": null,
   "id": "2b256046",
   "metadata": {},
   "outputs": [],
   "source": [
    "# 2D Convolution\n",
    "def Convolution_2d(source, kernel):\n",
    "    #get shape of image\n",
    "    [x,y] = np.shape(source)\n",
    "    #get kernel size\n",
    "    w_size = len(kernel)\n",
    "    d = w_size//2\n",
    "    #if kernel is single value, simply multiply and return\n",
    "    if d==0:\n",
    "        conv_img = kernel*source\n",
    "    else:\n",
    "        #flip the kernel\n",
    "        kernel = kernel[::-1, ::-1]\n",
    "        #removing the zero padding\n",
    "        conv_img = np.zeros((x-2*d,y-2*d))\n",
    "        #in the nested loop multiply image patch with the kernel, sum and store\n",
    "        for i in range(d, x-d):\n",
    "            for j in range(d, y-d):\n",
    "                patch = source[i-d:i+d+1, j-d:j+d+1]\n",
    "                conv_img[i-d, j-d] = np.sum(patch*kernel)\n",
    "    return conv_img\n",
    "                "
   ]
  },
  {
   "cell_type": "markdown",
   "id": "be59ff4d",
   "metadata": {},
   "source": [
    "**3D PLOTTING FUNCTION**"
   ]
  },
  {
   "cell_type": "code",
   "execution_count": null,
   "id": "6e934204",
   "metadata": {},
   "outputs": [],
   "source": [
    "#plotting function\n",
    "def plotting(q, colormap = cm.jet):\n",
    "    fig = plt.figure(figsize = (16,16))\n",
    "    ax = fig.gca(projection = '3d')\n",
    "    #getting shape of first frame\n",
    "    x,y = np.shape(frames[1])\n",
    "    X, Y = np.meshgrid(np.arange(x)+1, np.arange(y)+1)\n",
    "    surf = ax.plot_surface(X, Y, depth[q], cmap=colormap, linewidth=0, antialiased=False)\n",
    "    plt.title(rf\"Depth Map for $q$ = {q}\")\n",
    "    fig.colorbar(surf)\n",
    "    plt.show()\n",
    "    "
   ]
  },
  {
   "cell_type": "markdown",
   "id": "b71e01ec",
   "metadata": {},
   "source": [
    "**DEFINING SHARP IMAGE**\n",
    "\n",
    "Once it has been calculated for each pixel location the frame where it is in focus, form the focused image by choosing the corresponding pixel value at that location from the frame in focus."
   ]
  },
  {
   "cell_type": "code",
   "execution_count": null,
   "id": "c9db0e7e",
   "metadata": {},
   "outputs": [],
   "source": [
    "def sharpening_images(max_sharpness_frames,frames):\n",
    "    #Shape of max_sharpness_frames [x,y] being same as the same of each frame\n",
    "    x,y = np.shape(max_sharpness_frames)\n",
    "    #blank image\n",
    "    image = np.zeros((x,y))\n",
    "    #get the image frame at which the maximum focus score is obtained\n",
    "    #and assigning pixel value of image to the pixel value with highest focus score\n",
    "    for i in range(x):\n",
    "        for j in range(y):\n",
    "            temp = max_sharpness_frames[i,j]+1\n",
    "            image[i,j] = frames[temp][i,j]\n",
    "    return image"
   ]
  },
  {
   "cell_type": "markdown",
   "id": "c9dd0a51",
   "metadata": {},
   "source": [
    "**OBTAINING SHARP IMAGES AND PIXEL DEPTH**\n",
    "\n",
    "If the frame at which pixel $(i,j)$ attains maximum focus score is $k$, the depth of that pixel is estimated to be\n",
    "\n",
    "$depth(i,j) = (k-1)\\Delta d$ ; considering frame 1 assumes zero depth"
   ]
  },
  {
   "cell_type": "code",
   "execution_count": null,
   "id": "e5275e85",
   "metadata": {},
   "outputs": [],
   "source": [
    "sml_values = {}\n",
    "depth = {}\n",
    "max_sharpness_frames = {}\n",
    "sharp_images = {}\n",
    "q_values = [0, 1, 2]\n",
    "\n",
    "x,y =np.shape(frames[1])\n",
    "#for each q value\n",
    "for q in q_values:\n",
    "    temp = np.zeros((x,y,n_frames))\n",
    "    for i in range(n_frames):\n",
    "        # make a stack comprising of the SML values for each frame\n",
    "        temp[:, :, i] = sum_modified_laplacian(frames[i+1], q)\n",
    "    # store the sml stacks in a dictionary\n",
    "    sml_values[q] = temp\n",
    "    # get the pixelwise frame index with the maximum sharpness scores\n",
    "    max_sharpness_frames[q] = np.argmax(temp, axis=2)\n",
    "    # calculate depth from the frame index\n",
    "    depth[q] = max_sharpness_frames[q]*del_d\n",
    "for q in q_values:\n",
    "    sharp_images[q] = sharpening_images(max_sharpness_frames[q],frames)"
   ]
  },
  {
   "cell_type": "markdown",
   "id": "db6529c2",
   "metadata": {},
   "source": [
    "**RESULTS**\n",
    "\n"
   ]
  },
  {
   "cell_type": "markdown",
   "id": "57097d31",
   "metadata": {},
   "source": [
    "**SHARP IMAGES FOR EVERY PIXEL VALUE IS OBTAINED**"
   ]
  },
  {
   "cell_type": "code",
   "execution_count": null,
   "id": "f9625eaa",
   "metadata": {},
   "outputs": [],
   "source": [
    "fig, (ax1,ax2,ax3) = plt.subplots(1,3,figsize=(16,16))\n",
    "ax1.imshow(sharp_images[0],cmap='gray')\n",
    "ax1.title.set_text(rf\"$q$ = {q_values[0]}\")\n",
    "ax2.imshow(sharp_images[1],cmap='gray')\n",
    "ax2.title.set_text(rf\"$q$ = {q_values[1]}\")\n",
    "ax3.imshow(sharp_images[2],cmap='gray')\n",
    "ax3.title.set_text(rf\"$q$ = {q_values[2]}\")\n",
    "plt.show()"
   ]
  },
  {
   "cell_type": "markdown",
   "id": "5fc4b424",
   "metadata": {},
   "source": [
    "**ABSOLUTE DIFFERENCE**"
   ]
  },
  {
   "cell_type": "code",
   "execution_count": null,
   "id": "c4005b9e",
   "metadata": {},
   "outputs": [],
   "source": [
    "fig, (ax1,ax2,ax3) = plt.subplots(1,3,figsize=(16,16))\n",
    "ax1.imshow(np.abs(sharp_images[0]-sharp_images[1]),cmap='gray')\n",
    "ax1.title.set_text(rf\"Absolute difference between $q$ = {q_values[0]} and $q$ = {q_values[1]}\")\n",
    "ax2.imshow(np.abs(sharp_images[1]-sharp_images[2]),cmap='gray')\n",
    "ax2.title.set_text(rf\"Absolute difference between $q$ = {q_values[1]} and $q$ = {q_values[2]}\")\n",
    "ax3.imshow(np.abs(sharp_images[2]-sharp_images[0]),cmap='gray')\n",
    "ax3.title.set_text(rf\"Absolute difference between $q$ = {q_values[2]} and $q$ = {q_values[0]}\")\n",
    "plt.show()"
   ]
  },
  {
   "cell_type": "markdown",
   "id": "74c6538d",
   "metadata": {},
   "source": [
    "**3D PLOTS FOR q = 0**"
   ]
  },
  {
   "cell_type": "code",
   "execution_count": null,
   "id": "c26e3ff4",
   "metadata": {},
   "outputs": [],
   "source": [
    "plotting(0)"
   ]
  },
  {
   "cell_type": "markdown",
   "id": "006c2eed",
   "metadata": {},
   "source": [
    "**3D PLOTS FOR q = 1**"
   ]
  },
  {
   "cell_type": "code",
   "execution_count": null,
   "id": "dae1e01f",
   "metadata": {},
   "outputs": [],
   "source": [
    "plotting(1)"
   ]
  },
  {
   "cell_type": "markdown",
   "id": "373fcf10",
   "metadata": {},
   "source": [
    "**3D PLOTS FOR q = 2**"
   ]
  },
  {
   "cell_type": "code",
   "execution_count": null,
   "id": "4e845ed5",
   "metadata": {},
   "outputs": [],
   "source": [
    "plotting(2)"
   ]
  },
  {
   "cell_type": "markdown",
   "id": "4324d2b0",
   "metadata": {},
   "source": [
    "# OBSERVATIONS:\n",
    "\n",
    "The following observations can be made :\n",
    "* The depth estimates are noticeably different\n",
    "* As q increases we get smoother estimates\n",
    "* We can observe that the image has a lot of texture provided the sharp image estimates look good\n",
    "* Using larger q is more robust but it can merge depth information for nearby pixels"
   ]
  }
 ],
 "metadata": {
  "kernelspec": {
   "display_name": "Python 3 (ipykernel)",
   "language": "python",
   "name": "python3"
  },
  "language_info": {
   "codemirror_mode": {
    "name": "ipython",
    "version": 3
   },
   "file_extension": ".py",
   "mimetype": "text/x-python",
   "name": "python",
   "nbconvert_exporter": "python",
   "pygments_lexer": "ipython3",
   "version": "3.8.13"
  }
 },
 "nbformat": 4,
 "nbformat_minor": 5
}
