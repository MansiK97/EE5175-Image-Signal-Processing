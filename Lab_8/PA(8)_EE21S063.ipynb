{
 "cells": [
  {
   "cell_type": "markdown",
   "id": "0c41f5b1",
   "metadata": {},
   "source": [
    "# LAB ASSIGNMENT 8 OF IMAGE SIGNAL PROCESSING\n",
    "\n",
    "### MANSI KAKKAR\n",
    "\n",
    "### EE21S063\n"
   ]
  },
  {
   "cell_type": "markdown",
   "id": "50097625",
   "metadata": {},
   "source": [
    "### IMPORTING LIBRARIES"
   ]
  },
  {
   "cell_type": "code",
   "execution_count": 1,
   "id": "19529853",
   "metadata": {},
   "outputs": [],
   "source": [
    "import scipy.io\n",
    "import numpy as np\n",
    "import matplotlib.pyplot as plt"
   ]
  },
  {
   "cell_type": "markdown",
   "id": "4617e4c2",
   "metadata": {},
   "source": [
    "## Reading imageFile.mat "
   ]
  },
  {
   "cell_type": "code",
   "execution_count": 2,
   "id": "87fe8875",
   "metadata": {},
   "outputs": [
    {
     "data": {
      "text/plain": [
       "array([[207, 244, 107, 173,  70, 111, 180, 244],\n",
       "       [230, 246, 233, 193,  11,  97, 192,  86],\n",
       "       [ 32,  40, 202, 189,  24, 195,  70, 149],\n",
       "       [232, 247, 244, 100, 209, 202, 173,  57],\n",
       "       [161, 244, 167, 167, 177,  47, 167, 191],\n",
       "       [ 24, 123,   9,  43,  80, 124,  41,  65],\n",
       "       [ 71, 204, 216, 180, 242, 113,  30, 129],\n",
       "       [139,  36, 238,   8,   8, 164, 127, 178]], dtype=uint8)"
      ]
     },
     "execution_count": 2,
     "metadata": {},
     "output_type": "execute_result"
    }
   ],
   "source": [
    "#initial paramters\n",
    "n = 8\n",
    "rho = 0.91\n",
    "#reading\n",
    "mat = scipy.io.loadmat('imageFile.mat')['g']\n",
    "mat"
   ]
  },
  {
   "cell_type": "markdown",
   "id": "29461845",
   "metadata": {},
   "source": [
    "## MARKOV - 1 PROCESS\n",
    "\n",
    "Processing with covariance Matrix $8 X 8$ and $\\rho = 0.91$\n",
    "\n",
    "Compute the Energy Packing Efficiency and De-correlation Efficiency of the Walsh-Haddamard Transform and Discrete Cosine Transform for the above process."
   ]
  },
  {
   "cell_type": "code",
   "execution_count": 3,
   "id": "2ac9ab60",
   "metadata": {},
   "outputs": [],
   "source": [
    "def r_markov(N, rho):\n",
    "    x = np.arange(N)\n",
    "    y = np.arange(N)\n",
    "    _x,_y = np.meshgrid(x,y)\n",
    "    return rho**np.abs(_x-_y)"
   ]
  },
  {
   "cell_type": "markdown",
   "id": "0cd4a488",
   "metadata": {},
   "source": [
    "## Tridiagonal Matrix\n",
    "\n",
    "Generating covariance matrix for Markov - 1 process with a given paramter $\\rho$\n",
    "\n",
    "$$Q_{\\alpha} = \\begin{bmatrix} 1-\\alpha & -\\alpha & 0 & 0 \\\\ -\\alpha & 1 & -\\alpha & 0 \\\\ 0 & -\\alpha & 1 & -\\alpha \\\\ 0 & 0 & -\\alpha & 1-\\alpha \\end{bmatrix}$$\n"
   ]
  },
  {
   "cell_type": "code",
   "execution_count": 4,
   "id": "52332d04",
   "metadata": {},
   "outputs": [],
   "source": [
    "def tridiagonal_structure(alpha, n):\n",
    "    Q = np.zeros((n,n)) \n",
    "    _x,_y = np.meshgrid(np.arange(n),np.arange(n))\n",
    "    diff = np.abs(_x-_y)\n",
    "    Q[diff == 0] = 1\n",
    "    Q[diff == 1] = -alpha\n",
    "    Q[0,0] = 1-alpha\n",
    "    Q[n-1,n-1] = 1-alpha\n",
    "    return Q"
   ]
  },
  {
   "cell_type": "markdown",
   "id": "d87c6f8a",
   "metadata": {},
   "source": [
    "## DCT Matrix\n",
    "\n",
    "Discrete Correlation Transform eqaution is as follows for 1D DCT,\n",
    "\n",
    "$$\n",
    "C(k, n) = 2cos\\left[\\frac{\\pi(2n+1)k}{2N}\\right], \\quad 0 \\leq k \\leq N-1, \\quad 0 \\leq n \\leq N-1\n",
    "$$\n",
    "\n",
    "For normalising the Matrix ,\n",
    "\n",
    "$$\n",
    "\\frac{1}{\\sqrt{4N}}, \\quad k = 0\n",
    "$$\n",
    "\n",
    "$$\n",
    "\\frac{1}{\\sqrt{2N}}, \\quad k \\geq 1\n",
    "$$\n"
   ]
  },
  {
   "cell_type": "code",
   "execution_count": 5,
   "id": "29238f2b",
   "metadata": {},
   "outputs": [],
   "source": [
    "def DCT_matrix(N):\n",
    "    _n, _k = np.meshgrid(np.arange(N),np.arange(N))\n",
    "    alpha = np.sqrt(2/N)\n",
    "    C = alpha*(np.cos(np.pi*(2*_n+1)*_k/(2*N)))\n",
    "    C[alpha == 0] = np.sqrt(1/N)\n",
    "    return C"
   ]
  },
  {
   "cell_type": "markdown",
   "id": "8ab1a49a",
   "metadata": {},
   "source": [
    "## Haddamard Matrix\n",
    "\n",
    "Haddamard Transform Matrices $H_n$, are of $N X N$ form where $N = 2^n$. All the matrices can be generated from $H_1$ matrix,\n",
    "\n",
    "$$H_1 = \\frac{1}{\\sqrt{2}}\\begin{bmatrix} 1 & 1 \\\\ 1 & -1 \\end{bmatrix}$$\n",
    "\n",
    "$$\n",
    "H_{n} = H_{n-1}\\otimes H_{1} = H_{1} \\otimes H_{n-1}, \\quad n \\geq 2\n",
    "$$"
   ]
  },
  {
   "cell_type": "code",
   "execution_count": 6,
   "id": "c22bbbed",
   "metadata": {},
   "outputs": [],
   "source": [
    "def haddamard_matrix(n):\n",
    "    H1 = np.array(([1, 1],[1, -1]))/np.sqrt(2)\n",
    "    H = H1.copy()\n",
    "    if n==1:\n",
    "        return H1\n",
    "    else:\n",
    "        for i in range(1,n):\n",
    "            H = np.kron(H,H1)\n",
    "        return H"
   ]
  },
  {
   "cell_type": "markdown",
   "id": "3505305b",
   "metadata": {},
   "source": [
    "## 2D DCT\n",
    "\n",
    "2D DCT using 1D DCT matrices.\n",
    "\n",
    "$U$ is given image of shape $m \\times n$\n",
    "\n",
    "$$V = C_mUC_n$$\n",
    "\n",
    "where $C_i$ is 1D DCT matrix of size $i \\times i$"
   ]
  },
  {
   "cell_type": "code",
   "execution_count": 7,
   "id": "67193b81",
   "metadata": {},
   "outputs": [],
   "source": [
    "def DCT_2d(image):\n",
    "    m,n = np.shape(image)\n",
    "    A = DCT_matrix(m)\n",
    "    B = DCT_matrix(n)\n",
    "    return A@image@(B.T)"
   ]
  },
  {
   "cell_type": "markdown",
   "id": "d91f15b5",
   "metadata": {},
   "source": [
    "## 2D Walsh Haddamard Transform\n",
    "\n",
    "$$V = H_m U H_n$$"
   ]
  },
  {
   "cell_type": "code",
   "execution_count": 8,
   "id": "e00c89db",
   "metadata": {},
   "outputs": [],
   "source": [
    "def WHT_2d(image):\n",
    "    m,n = np.shape(image)\n",
    "    m_ = int(np.ceil(np.log2(m)))\n",
    "    n_ = int(np.ceil(np.log2(n)))\n",
    "    diff_m = 2**m_ - m\n",
    "    diff_n = 2**n_ - n\n",
    "    assert diff_m == 0 and diff_n == 0, \"Image dimensions should be a power of 2\"\n",
    "    H_m = haddamard_matrix(m_)\n",
    "    H_n = haddamard_matrix(n_)\n",
    "    V = H_m@image@(H_n.T)\n",
    "    return V\n",
    "    "
   ]
  },
  {
   "cell_type": "markdown",
   "id": "fbd1a575",
   "metadata": {},
   "source": [
    "## Energy Packing Efficiency\n",
    "\n",
    "Energy Packing Efficiency (EPE) :\n",
    "$${EPE}_m = \\frac{\\Sigma_{i=1}^{m}R_{i,i}}{\\Sigma_{j=1}^{N}R_{j, j}}$$\n",
    "\n",
    "\n",
    "The energy packing efficiency will be high even with low values of $m$ if the first few coefficients contain a bulk of the energy. It is to be noted than an inherent assumption is the coefficients are in the decreasing order, i.e., \n",
    "\n",
    "$$\n",
    "R(1, 1) \\geq R(2, 2) \\dots \\geq R(N, N)\n",
    "$$"
   ]
  },
  {
   "cell_type": "code",
   "execution_count": 9,
   "id": "1c611149",
   "metadata": {},
   "outputs": [],
   "source": [
    "def ep_eff(R):\n",
    "    diagonal_vals = np.abs(np.diag(R))\n",
    "    energy_total = np.sum(diagonal_vals)\n",
    "    energy_packed = np.cumsum(diagonal_vals)\n",
    "    return energy_packed/energy_total"
   ]
  },
  {
   "cell_type": "markdown",
   "id": "ca2f5705",
   "metadata": {},
   "source": [
    "## Decorrelation Efficiency\n",
    "\n",
    "The decorrelation efficiency measures how well the transformed data $R'$ is decorrelated compared to the original data $R$.\n",
    "\n",
    "$$\n",
    "\\eta = 1 - \\frac{\\alpha}{\\beta}\n",
    "$$\n",
    "\n",
    "$$\n",
    "\\alpha = \\Sigma_{i, j = 1, i \\neq j}^{N}|R'_{i, j}|\n",
    "$$\n",
    "\n",
    "$$\n",
    "\\beta = \\Sigma_{i, j = 1, i \\neq j}^{N}|R_{i, j}|\n",
    "$$\n"
   ]
  },
  {
   "cell_type": "code",
   "execution_count": 10,
   "id": "6691f686",
   "metadata": {},
   "outputs": [],
   "source": [
    "def decorr_eff(R,R_prime):\n",
    "    N = np.shape(R)[0]\n",
    "    non_diagonal_vals = 1-np.eye(N)\n",
    "    R_ = np.abs(non_diagonal_vals*R)\n",
    "    R_p_ = np.abs(non_diagonal_vals*R_prime)\n",
    "    alpha = np.sum(R_p_)\n",
    "    beta = np.sum(R_)\n",
    "    return (1-(alpha/beta))\n"
   ]
  },
  {
   "cell_type": "markdown",
   "id": "298fb71d",
   "metadata": {},
   "source": [
    "## Inverse of R\n",
    "\n",
    "$R^{-1} satisfies$\n",
    "\n",
    "$$ \\beta^2 R^{-1} \\approx Q_{\\alpha}$$\n",
    "\n",
    "where, $Q_a$ is the tridiagonal matrix with parameter $\\alpha$\n",
    "\n",
    "$$\\beta^{2} = \\frac{1-\\rho^{2}}{1+\\rho^{2}}$$\n",
    "\n",
    "$$\\alpha = \\frac{\\rho}{1+\\rho^{2}}$$"
   ]
  },
  {
   "cell_type": "code",
   "execution_count": 11,
   "id": "f51228cb",
   "metadata": {},
   "outputs": [],
   "source": [
    "def get_alpha_beta(rho, return_beta_square=True):\n",
    "    alpha = rho/(1+rho**2)\n",
    "    beta_square = (1-rho**2)/(1+rho**2)\n",
    "    if return_beta_square:\n",
    "        return alpha, beta_square\n",
    "    else:\n",
    "        return alpha, np.sqrt(beta_square)"
   ]
  },
  {
   "cell_type": "markdown",
   "id": "7f3bd25c",
   "metadata": {},
   "source": [
    "## Sorting Eigen Vectors \n",
    "\n",
    "Numpy's eigen value function does not give sorted eigen values, and for SVD we need eigen values in decreasing order."
   ]
  },
  {
   "cell_type": "code",
   "execution_count": 12,
   "id": "dc71e56d",
   "metadata": {},
   "outputs": [],
   "source": [
    "def sorted_eigen(mat):\n",
    "    e, v = np.linalg.eig(mat)\n",
    "    x = e.argsort()[::-1]\n",
    "    e = e[x]\n",
    "    v = v[:,x]\n",
    "    return e, v\n"
   ]
  },
  {
   "cell_type": "markdown",
   "id": "3d48c499",
   "metadata": {},
   "source": [
    "## Singular Value Decomposition\n",
    "\n",
    "$$s = A\\Sigma B^T$$\n",
    "\n",
    "to find $A$, computing $ss^T$ \n",
    "\n",
    "to find $B$, computing $s^Ts$ \n",
    "\n",
    "to find singular value matrix, \\sigma , we use eigen values of $ss^T$ and $s^Ts$"
   ]
  },
  {
   "cell_type": "code",
   "execution_count": 13,
   "id": "2ce07b50",
   "metadata": {},
   "outputs": [],
   "source": [
    "def SVD(s):\n",
    "    s = s.astype(np.float64)\n",
    "    m,n = np.shape(s)\n",
    "    limiting_dim = min(m,n)\n",
    "    sigma = np.zeros((m, n))\n",
    "    S1 = s@(s.T)\n",
    "    S2 = (s.T)@s\n",
    "    e1, v1 = sorted_eigen(S1)\n",
    "    e2, v2 = sorted_eigen(S2)\n",
    "    for i in range(limiting_dim):\n",
    "        sigma[i,i] = (np.sqrt(e1[i])+np.sqrt(e2[i]))/2\n",
    "        v = v2[:,i]\n",
    "        if np.sum((s@v-sigma[i, i]*v1[:, i])**2) > np.sum((s@v+sigma[i, i]*v1[:, i])**2):\n",
    "            v2[:, i] = -v\n",
    "    return v1, sigma, v2"
   ]
  },
  {
   "cell_type": "markdown",
   "id": "b0bcdce9",
   "metadata": {},
   "source": [
    "## Reconstructing SVD\n",
    "\n",
    "$$s = A\\Sigma B^T$$"
   ]
  },
  {
   "cell_type": "code",
   "execution_count": 14,
   "id": "b922fad1",
   "metadata": {},
   "outputs": [],
   "source": [
    "def SVD_reconstruct(A,sigma,B):\n",
    "    return A@sigma@(B.T)"
   ]
  },
  {
   "cell_type": "markdown",
   "id": "da0bff4f",
   "metadata": {},
   "source": [
    "##  SVD Reconstruction Error\n",
    "\n",
    "$||g-\\hat{g}_{k}||_{F}^{2}$\n",
    "\n",
    "Remove one singular value at a time from $\\Sigma$ and reconstruct the image $\\hat{g}_{k}$ where the $k$ highest singular values are removed. Compute the square of  Frobenius norm of the error between $\\hat{g}_{k}$ and the original image $g$"
   ]
  },
  {
   "cell_type": "code",
   "execution_count": 15,
   "id": "def1b680",
   "metadata": {},
   "outputs": [],
   "source": [
    "def svd_error(s, A, sigm, B):\n",
    "    s = s.astype(np.float64)\n",
    "    m,n = np.shape(s)\n",
    "    limiting_dim = min(m, n)\n",
    "    e = np.zeros(limiting_dim) #reconstruction error\n",
    "    m = s.copy() #reconstruction matrix\n",
    "    for i in range(limiting_dim):\n",
    "        m -= sigma[i, i]*np.outer(A[:, i], B[:, i])\n",
    "        e[i] = np.sum((m - s)**2)\n",
    "    return e"
   ]
  },
  {
   "cell_type": "markdown",
   "id": "a8a69937",
   "metadata": {},
   "source": [
    "## Expected Reconstruction Error\n",
    "\n",
    "$$\n",
    "||g-\\hat{g}_{k}||_{F}^{2} = \\Sigma_{i=1}^{k}\\sigma_{i}^{2}\n",
    "$$"
   ]
  },
  {
   "cell_type": "code",
   "execution_count": 16,
   "id": "a6edd998",
   "metadata": {},
   "outputs": [],
   "source": [
    "def expected_svd_error(s):\n",
    "    sigma = s[s>0]\n",
    "    return np.cumsum(sigma**2)"
   ]
  },
  {
   "cell_type": "markdown",
   "id": "56293f44",
   "metadata": {},
   "source": [
    "# RESULTS"
   ]
  },
  {
   "cell_type": "code",
   "execution_count": 17,
   "id": "e30c6036",
   "metadata": {},
   "outputs": [],
   "source": [
    "# PART 1\n",
    "R = r_markov(n,rho)\n",
    "#Discrete Cosine Transform\n",
    "dct = DCT_2d(R)\n",
    "#Walsh Haddamard Transform\n",
    "wht = WHT_2d(R)\n",
    "epe_dct = ep_eff(dct)\n",
    "epe_wht = ep_eff(wht)\n",
    "dce_dct = decorr_eff(R,dct)\n",
    "dce_wht = decorr_eff(R,wht)\n",
    "\n",
    "#PART 2\n",
    "alpha, beta_square = get_alpha_beta(rho)\n",
    "#generating tridiagonal matrix Q\n",
    "Q = tridiagonal_structure(alpha,n)\n",
    "# beta square R inverse\n",
    "bsr_inv = beta_square*(np.linalg.inv(R))\n",
    "Q_dct = DCT_2d(Q)\n",
    "bsr_inv_dct = DCT_2d(bsr_inv)\n",
    "#get svd matrix of s\n",
    "A, sigma, B = SVD(mat)\n",
    "# reconstruct g using all singular values\n",
    "re_mat = SVD_reconstruct(A, sigma, B)\n",
    "#errors\n",
    "re_error_expected = expected_svd_error(sigma)\n",
    "re_error_calculated = svd_error(mat, A, sigma, B)\n"
   ]
  },
  {
   "cell_type": "code",
   "execution_count": 18,
   "id": "f408a2a8",
   "metadata": {},
   "outputs": [
    {
     "data": {
      "image/png": "[encoded data removed]",
      "text/plain": [
       "<Figure size 720x576 with 1 Axes>"
      ]
     },
     "metadata": {
      "needs_background": "light"
     },
     "output_type": "display_data"
    }
   ],
   "source": [
    "plt.figure(figsize=(10, 8))\n",
    "plt.plot(np.arange(n)+1, epe_dct, 'g')\n",
    "plt.plot(np.arange(n)+1, epe_wht, 'r')\n",
    "plt.xlabel(\"Number of Coefficients\")\n",
    "plt.ylabel(\"EPE\")\n",
    "plt.title(\"Energy Packing Efficiency\")\n",
    "plt.legend([\"DCT\", \"WHT\"])\n",
    "plt.grid(True)\n",
    "plt.show()"
   ]
  },
  {
   "cell_type": "markdown",
   "id": "a93b6a18",
   "metadata": {},
   "source": [
    "## Decorrelation Efficiency"
   ]
  },
  {
   "cell_type": "code",
   "execution_count": 19,
   "id": "ae3c2faa",
   "metadata": {},
   "outputs": [
    {
     "name": "stdout",
     "output_type": "stream",
     "text": [
      "Decorrelation Efficiency of R for DCT : 0.9731490340720335\n",
      "Decorrelation Efficiency of R for WHT : 0.9485667904674057\n"
     ]
    }
   ],
   "source": [
    "print(f\"Decorrelation Efficiency of R for DCT : {dce_dct}\")\n",
    "print(f\"Decorrelation Efficiency of R for WHT : {dce_wht}\")"
   ]
  },
  {
   "cell_type": "markdown",
   "id": "acb87aa6",
   "metadata": {},
   "source": [
    "## Eigenvectors of R and DCT Basis Vectors"
   ]
  },
  {
   "cell_type": "code",
   "execution_count": 20,
   "id": "b814ebdf",
   "metadata": {},
   "outputs": [
    {
     "name": "stdout",
     "output_type": "stream",
     "text": [
      "[[ 1.269e+01  0.000e+00 -4.100e-01  0.000e+00 -9.000e-02 -0.000e+00\n",
      "  -3.000e-02  0.000e+00]\n",
      " [ 0.000e+00  9.300e-01  0.000e+00 -3.000e-02  0.000e+00 -1.000e-02\n",
      "   0.000e+00 -0.000e+00]\n",
      " [-4.100e-01  0.000e+00  3.100e-01  0.000e+00 -0.000e+00  0.000e+00\n",
      "  -0.000e+00 -0.000e+00]\n",
      " [ 0.000e+00 -3.000e-02  0.000e+00  1.500e-01  0.000e+00 -0.000e+00\n",
      "   0.000e+00 -0.000e+00]\n",
      " [-9.000e-02 -0.000e+00 -0.000e+00  0.000e+00  9.000e-02  0.000e+00\n",
      "  -0.000e+00 -0.000e+00]\n",
      " [-0.000e+00 -1.000e-02  0.000e+00 -0.000e+00  0.000e+00  7.000e-02\n",
      "   0.000e+00 -0.000e+00]\n",
      " [-3.000e-02  0.000e+00 -0.000e+00  0.000e+00 -0.000e+00 -0.000e+00\n",
      "   6.000e-02 -0.000e+00]\n",
      " [ 0.000e+00 -0.000e+00 -0.000e+00 -0.000e+00 -0.000e+00 -0.000e+00\n",
      "   0.000e+00  5.000e-02]]\n"
     ]
    }
   ],
   "source": [
    "print(np.round(dct, decimals=2))"
   ]
  },
  {
   "cell_type": "markdown",
   "id": "e292c24d",
   "metadata": {},
   "source": [
    "## Scaled Inverse of R"
   ]
  },
  {
   "cell_type": "code",
   "execution_count": 21,
   "id": "915c71ca",
   "metadata": {},
   "outputs": [
    {
     "name": "stdout",
     "output_type": "stream",
     "text": [
      "[[ 0.547 -0.498 -0.     0.    -0.    -0.     0.    -0.   ]\n",
      " [-0.498  1.    -0.498 -0.     0.     0.    -0.     0.   ]\n",
      " [-0.    -0.498  1.    -0.498  0.    -0.     0.    -0.   ]\n",
      " [-0.    -0.    -0.498  1.    -0.498  0.    -0.     0.   ]\n",
      " [-0.     0.     0.    -0.498  1.    -0.498  0.     0.   ]\n",
      " [-0.     0.    -0.     0.    -0.498  1.    -0.498 -0.   ]\n",
      " [ 0.    -0.     0.     0.    -0.    -0.498  1.    -0.498]\n",
      " [-0.     0.    -0.     0.     0.    -0.    -0.498  0.547]]\n"
     ]
    }
   ],
   "source": [
    "print(np.round(bsr_inv, 3))"
   ]
  },
  {
   "cell_type": "markdown",
   "id": "b0cc897e",
   "metadata": {},
   "source": [
    "## Tridiagonal Matrix"
   ]
  },
  {
   "cell_type": "code",
   "execution_count": 22,
   "id": "60b1e21d",
   "metadata": {},
   "outputs": [
    {
     "name": "stdout",
     "output_type": "stream",
     "text": [
      "[[ 0.502 -0.498  0.     0.     0.     0.     0.     0.   ]\n",
      " [-0.498  1.    -0.498  0.     0.     0.     0.     0.   ]\n",
      " [ 0.    -0.498  1.    -0.498  0.     0.     0.     0.   ]\n",
      " [ 0.     0.    -0.498  1.    -0.498  0.     0.     0.   ]\n",
      " [ 0.     0.     0.    -0.498  1.    -0.498  0.     0.   ]\n",
      " [ 0.     0.     0.     0.    -0.498  1.    -0.498  0.   ]\n",
      " [ 0.     0.     0.     0.     0.    -0.498  1.    -0.498]\n",
      " [ 0.     0.     0.     0.     0.     0.    -0.498  0.502]]\n"
     ]
    }
   ],
   "source": [
    "print(np.round(Q, 3))"
   ]
  },
  {
   "cell_type": "markdown",
   "id": "15a8922e",
   "metadata": {},
   "source": [
    "## Diagonalizing Ability of DCT\n",
    "\n",
    "\n",
    "We know that DCT diagonalizes matrices with a tridiagonal structure, $Q_{\\alpha}$. We also try to diagonalize $\\beta^{2}R^{-1}$ as defined in the previous section using DCT.\n",
    "\n",
    "For $\\beta^{2}R^{-1}$, the matrix is almost diagonal, i.e., most of the off-diagonal elements have small values."
   ]
  },
  {
   "cell_type": "code",
   "execution_count": 23,
   "id": "8152c8c9",
   "metadata": {},
   "outputs": [
    {
     "name": "stdout",
     "output_type": "stream",
     "text": [
      "[[ 0.031 -0.     0.021 -0.     0.016 -0.     0.009  0.   ]\n",
      " [-0.     0.102 -0.     0.018  0.     0.012  0.     0.004]\n",
      " [ 0.021 -0.     0.315 -0.     0.015  0.     0.008  0.   ]\n",
      " [-0.     0.018  0.     0.634  0.     0.01   0.     0.004]\n",
      " [ 0.016  0.     0.015  0.     1.011  0.     0.006  0.   ]\n",
      " [ 0.     0.012  0.     0.01   0.     1.388  0.     0.002]\n",
      " [ 0.009  0.     0.008  0.     0.006  0.     1.707 -0.   ]\n",
      " [ 0.     0.004  0.     0.004  0.     0.002 -0.     1.921]]\n"
     ]
    }
   ],
   "source": [
    "print(np.round(bsr_inv_dct, 3))"
   ]
  },
  {
   "cell_type": "code",
   "execution_count": 24,
   "id": "45a7e617",
   "metadata": {},
   "outputs": [
    {
     "name": "stdout",
     "output_type": "stream",
     "text": [
      "[[ 0.009  0.    -0.     0.     0.    -0.    -0.     0.   ]\n",
      " [ 0.     0.08  -0.     0.    -0.    -0.     0.    -0.   ]\n",
      " [ 0.    -0.     0.296  0.    -0.     0.    -0.     0.   ]\n",
      " [-0.     0.     0.     0.619  0.    -0.     0.    -0.   ]\n",
      " [-0.    -0.    -0.     0.     1.     0.    -0.    -0.   ]\n",
      " [ 0.    -0.     0.    -0.     0.     1.381  0.     0.   ]\n",
      " [ 0.     0.    -0.     0.    -0.     0.     1.704 -0.   ]\n",
      " [ 0.    -0.     0.    -0.    -0.     0.    -0.     1.92 ]]\n"
     ]
    }
   ],
   "source": [
    "print(np.round(Q_dct, 3))"
   ]
  },
  {
   "cell_type": "markdown",
   "id": "76b22309",
   "metadata": {},
   "source": [
    "## SVD Reconstruction"
   ]
  },
  {
   "cell_type": "code",
   "execution_count": 25,
   "id": "69da6712",
   "metadata": {},
   "outputs": [
    {
     "name": "stdout",
     "output_type": "stream",
     "text": [
      "[[207 244 107 173  70 111 180 244]\n",
      " [230 246 233 193  11  97 192  86]\n",
      " [ 32  40 202 189  24 195  70 149]\n",
      " [232 247 244 100 209 202 173  57]\n",
      " [161 244 167 167 177  47 167 191]\n",
      " [ 24 123   9  43  80 124  41  65]\n",
      " [ 71 204 216 180 242 113  30 129]\n",
      " [139  36 238   8   8 164 127 178]]\n"
     ]
    }
   ],
   "source": [
    "print(np.round(mat, 3))"
   ]
  },
  {
   "cell_type": "code",
   "execution_count": 26,
   "id": "242e6a78",
   "metadata": {},
   "outputs": [
    {
     "name": "stdout",
     "output_type": "stream",
     "text": [
      "[[207. 244. 107. 173.  70. 111. 180. 244.]\n",
      " [230. 246. 233. 193.  11.  97. 192.  86.]\n",
      " [ 32.  40. 202. 189.  24. 195.  70. 149.]\n",
      " [232. 247. 244. 100. 209. 202. 173.  57.]\n",
      " [161. 244. 167. 167. 177.  47. 167. 191.]\n",
      " [ 24. 123.   9.  43.  80. 124.  41.  65.]\n",
      " [ 71. 204. 216. 180. 242. 113.  30. 129.]\n",
      " [139.  36. 238.   8.   8. 164. 127. 178.]]\n"
     ]
    }
   ],
   "source": [
    "print(np.round(re_mat, 3))"
   ]
  },
  {
   "cell_type": "markdown",
   "id": "f6b9f35e",
   "metadata": {},
   "source": [
    "## Reconstruction Errors"
   ]
  },
  {
   "cell_type": "code",
   "execution_count": 27,
   "id": "6bf9cbb4",
   "metadata": {},
   "outputs": [
    {
     "data": {
      "image/png": "[encoded data removed]",
      "text/plain": [
       "<Figure size 720x576 with 1 Axes>"
      ]
     },
     "metadata": {
      "needs_background": "light"
     },
     "output_type": "display_data"
    }
   ],
   "source": [
    "plt.figure(figsize=(10, 8))\n",
    "plt.plot(np.arange(n)+1, re_error_expected, color = 'yellow',linewidth = 6)\n",
    "plt.plot(np.arange(n)+1, re_error_calculated, '-o', color = 'blue', linewidth = 2)\n",
    "plt.xlabel(\"singular values removed (k)\")\n",
    "plt.ylabel(r'||g-$\\hat{g}_{k}||^{2}$')\n",
    "plt.legend([\"Expected\", \"Calculated\"])\n",
    "plt.title(\"Reconstruction Errors\")\n",
    "plt.grid(True)\n",
    "plt.show()"
   ]
  },
  {
   "cell_type": "markdown",
   "id": "e966aa7f",
   "metadata": {},
   "source": [
    "# OBSERVATIONS:"
   ]
  },
  {
   "cell_type": "markdown",
   "id": "3f716eba",
   "metadata": {},
   "source": [
    "We can observe that:\n",
    "    \n",
    "* DCT is better than WHT at both energy packing and decorrelation \n",
    "\n",
    "* DCT exactly diagonalises $Q_{\\alpha}$, a triadigonal matrix with parameter $\\alpha$ and almost but not completely diagonalises $\\beta^2 R^{-1}$ \n",
    "\n",
    "* Eigen values of R are close to the DCT basis vectors but not exactly same\n",
    "\n",
    "* Reconstructed and computed SVD for the image gives same result\n"
   ]
  }
 ],
 "metadata": {
  "kernelspec": {
   "display_name": "Python 3 (ipykernel)",
   "language": "python",
   "name": "python3"
  },
  "language_info": {
   "codemirror_mode": {
    "name": "ipython",
    "version": 3
   },
   "file_extension": ".py",
   "mimetype": "text/x-python",
   "name": "python",
   "nbconvert_exporter": "python",
   "pygments_lexer": "ipython3",
   "version": "3.9.7"
  }
 },
 "nbformat": 4,
 "nbformat_minor": 5
}
